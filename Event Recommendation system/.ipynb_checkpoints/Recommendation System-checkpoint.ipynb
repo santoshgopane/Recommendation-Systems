{
 "cells": [
  {
   "cell_type": "code",
   "execution_count": 30,
   "metadata": {},
   "outputs": [],
   "source": [
    "import numpy as np\n",
    "import pandas as pd\n",
    "import matplotlib.pyplot as plt\n",
    "import seaborn as sns\n",
    "%matplotlib inline"
   ]
  },
  {
   "cell_type": "code",
   "execution_count": 31,
   "metadata": {},
   "outputs": [],
   "source": [
    "data = pd.read_csv('CCMLEmployeeData.csv')"
   ]
  },
  {
   "cell_type": "code",
   "execution_count": 32,
   "metadata": {},
   "outputs": [
    {
     "name": "stdout",
     "output_type": "stream",
     "text": [
      "<class 'pandas.core.frame.DataFrame'>\n",
      "RangeIndex: 183 entries, 0 to 182\n",
      "Data columns (total 4 columns):\n",
      " #   Column  Non-Null Count  Dtype \n",
      "---  ------  --------------  ----- \n",
      " 0   Name    183 non-null    object\n",
      " 1   Domain  183 non-null    object\n",
      " 2   Event1  183 non-null    object\n",
      " 3   Event2  183 non-null    object\n",
      "dtypes: object(4)\n",
      "memory usage: 5.8+ KB\n"
     ]
    }
   ],
   "source": [
    "data.info()"
   ]
  },
  {
   "cell_type": "code",
   "execution_count": 33,
   "metadata": {},
   "outputs": [
    {
     "data": {
      "text/html": [
       "<div>\n",
       "<style scoped>\n",
       "    .dataframe tbody tr th:only-of-type {\n",
       "        vertical-align: middle;\n",
       "    }\n",
       "\n",
       "    .dataframe tbody tr th {\n",
       "        vertical-align: top;\n",
       "    }\n",
       "\n",
       "    .dataframe thead th {\n",
       "        text-align: right;\n",
       "    }\n",
       "</style>\n",
       "<table border=\"1\" class=\"dataframe\">\n",
       "  <thead>\n",
       "    <tr style=\"text-align: right;\">\n",
       "      <th></th>\n",
       "      <th>Name</th>\n",
       "      <th>Domain</th>\n",
       "      <th>Event1</th>\n",
       "      <th>Event2</th>\n",
       "    </tr>\n",
       "  </thead>\n",
       "  <tbody>\n",
       "    <tr>\n",
       "      <th>0</th>\n",
       "      <td>Bryan Brock</td>\n",
       "      <td>Management</td>\n",
       "      <td>Jobs</td>\n",
       "      <td>Hackathons</td>\n",
       "    </tr>\n",
       "    <tr>\n",
       "      <th>1</th>\n",
       "      <td>Joseph Sullivan</td>\n",
       "      <td>Coding</td>\n",
       "      <td>Certifications</td>\n",
       "      <td>Webinars</td>\n",
       "    </tr>\n",
       "    <tr>\n",
       "      <th>2</th>\n",
       "      <td>Sherri Dawson</td>\n",
       "      <td>Security</td>\n",
       "      <td>Internships</td>\n",
       "      <td>Fests</td>\n",
       "    </tr>\n",
       "    <tr>\n",
       "      <th>3</th>\n",
       "      <td>Dustin Ferguson</td>\n",
       "      <td>Hardware</td>\n",
       "      <td>Competitions</td>\n",
       "      <td>Webinars</td>\n",
       "    </tr>\n",
       "    <tr>\n",
       "      <th>4</th>\n",
       "      <td>Kayla Young</td>\n",
       "      <td>Web Development</td>\n",
       "      <td>Expos</td>\n",
       "      <td>Certifications</td>\n",
       "    </tr>\n",
       "    <tr>\n",
       "      <th>5</th>\n",
       "      <td>Angela Stokes</td>\n",
       "      <td>Higher Education</td>\n",
       "      <td>Workshops</td>\n",
       "      <td>Seminars</td>\n",
       "    </tr>\n",
       "    <tr>\n",
       "      <th>6</th>\n",
       "      <td>Curtis Ortega</td>\n",
       "      <td>IoT</td>\n",
       "      <td>Certifications</td>\n",
       "      <td>Courses</td>\n",
       "    </tr>\n",
       "    <tr>\n",
       "      <th>7</th>\n",
       "      <td>Andrew Cox</td>\n",
       "      <td>Coding</td>\n",
       "      <td>Jobs</td>\n",
       "      <td>Certifications</td>\n",
       "    </tr>\n",
       "    <tr>\n",
       "      <th>8</th>\n",
       "      <td>Russell Vargas</td>\n",
       "      <td>Java</td>\n",
       "      <td>Trainings</td>\n",
       "      <td>Expos</td>\n",
       "    </tr>\n",
       "    <tr>\n",
       "      <th>9</th>\n",
       "      <td>David Foster</td>\n",
       "      <td>Security</td>\n",
       "      <td>Certifications</td>\n",
       "      <td>Courses</td>\n",
       "    </tr>\n",
       "  </tbody>\n",
       "</table>\n",
       "</div>"
      ],
      "text/plain": [
       "              Name            Domain          Event1          Event2\n",
       "0      Bryan Brock        Management            Jobs      Hackathons\n",
       "1  Joseph Sullivan            Coding  Certifications        Webinars\n",
       "2    Sherri Dawson          Security     Internships           Fests\n",
       "3  Dustin Ferguson          Hardware    Competitions        Webinars\n",
       "4      Kayla Young   Web Development           Expos  Certifications\n",
       "5    Angela Stokes  Higher Education       Workshops        Seminars\n",
       "6    Curtis Ortega               IoT  Certifications         Courses\n",
       "7       Andrew Cox            Coding            Jobs  Certifications\n",
       "8   Russell Vargas              Java       Trainings           Expos\n",
       "9     David Foster          Security  Certifications         Courses"
      ]
     },
     "execution_count": 33,
     "metadata": {},
     "output_type": "execute_result"
    }
   ],
   "source": [
    "data.head(10)"
   ]
  },
  {
   "cell_type": "code",
   "execution_count": 34,
   "metadata": {},
   "outputs": [
    {
     "data": {
      "text/plain": [
       "Expos             22\n",
       "Internships       19\n",
       "Competitions      18\n",
       "Trainings         15\n",
       "Seminars          14\n",
       "Talks             14\n",
       "Jobs              14\n",
       "Workshops         13\n",
       "Fests             12\n",
       "Certifications    12\n",
       "Hackathons        12\n",
       "Webinars          11\n",
       "Courses            7\n",
       "Name: Event1, dtype: int64"
      ]
     },
     "execution_count": 34,
     "metadata": {},
     "output_type": "execute_result"
    }
   ],
   "source": [
    "data['Event1'].value_counts()"
   ]
  },
  {
   "cell_type": "code",
   "execution_count": 35,
   "metadata": {},
   "outputs": [],
   "source": [
    "#Extra corricular \n",
    "extra = ['Fests','Talks','Expos']\n",
    "#Co-corricular\n",
    "cocorr = ['Certifications','Internships','Competitions','Workshops','Seminars','Hackathons','Webinars','Courses']\n",
    "#Placement\n",
    "placement = ['Jobs','Trainings']"
   ]
  },
  {
   "cell_type": "code",
   "execution_count": 36,
   "metadata": {},
   "outputs": [
    {
     "name": "stdout",
     "output_type": "stream",
     "text": [
      "Fests\n",
      "Talks\n",
      "Expos\n"
     ]
    }
   ],
   "source": [
    "for i in extra:\n",
    "    print(i)"
   ]
  },
  {
   "cell_type": "code",
   "execution_count": 37,
   "metadata": {},
   "outputs": [],
   "source": [
    "data.replace(to_replace =['Fests','Talks','Expos'], value =\"Extracorricular\",inplace=True) \n",
    "data.replace(to_replace =['Certifications','Internships','Competitions','Workshops','Seminars','Hackathons','Webinars','Courses'], value =\"Co-corricular\",inplace=True) \n",
    "data.replace(to_replace =['Jobs','Trainings'], value =\"Placement\",inplace=True) "
   ]
  },
  {
   "cell_type": "code",
   "execution_count": 38,
   "metadata": {},
   "outputs": [
    {
     "data": {
      "text/plain": [
       "Co-corricular      106\n",
       "Extracorricular     48\n",
       "Placement           29\n",
       "Name: Event1, dtype: int64"
      ]
     },
     "execution_count": 38,
     "metadata": {},
     "output_type": "execute_result"
    }
   ],
   "source": [
    "data['Event1'].value_counts()"
   ]
  },
  {
   "cell_type": "code",
   "execution_count": 39,
   "metadata": {},
   "outputs": [
    {
     "data": {
      "text/html": [
       "<div>\n",
       "<style scoped>\n",
       "    .dataframe tbody tr th:only-of-type {\n",
       "        vertical-align: middle;\n",
       "    }\n",
       "\n",
       "    .dataframe tbody tr th {\n",
       "        vertical-align: top;\n",
       "    }\n",
       "\n",
       "    .dataframe thead th {\n",
       "        text-align: right;\n",
       "    }\n",
       "</style>\n",
       "<table border=\"1\" class=\"dataframe\">\n",
       "  <thead>\n",
       "    <tr style=\"text-align: right;\">\n",
       "      <th></th>\n",
       "      <th>Name</th>\n",
       "      <th>Domain</th>\n",
       "      <th>Event1</th>\n",
       "      <th>Event2</th>\n",
       "    </tr>\n",
       "  </thead>\n",
       "  <tbody>\n",
       "    <tr>\n",
       "      <th>0</th>\n",
       "      <td>Bryan Brock</td>\n",
       "      <td>Management</td>\n",
       "      <td>Placement</td>\n",
       "      <td>Co-corricular</td>\n",
       "    </tr>\n",
       "    <tr>\n",
       "      <th>1</th>\n",
       "      <td>Joseph Sullivan</td>\n",
       "      <td>Coding</td>\n",
       "      <td>Co-corricular</td>\n",
       "      <td>Co-corricular</td>\n",
       "    </tr>\n",
       "    <tr>\n",
       "      <th>2</th>\n",
       "      <td>Sherri Dawson</td>\n",
       "      <td>Security</td>\n",
       "      <td>Co-corricular</td>\n",
       "      <td>Extracorricular</td>\n",
       "    </tr>\n",
       "    <tr>\n",
       "      <th>3</th>\n",
       "      <td>Dustin Ferguson</td>\n",
       "      <td>Hardware</td>\n",
       "      <td>Co-corricular</td>\n",
       "      <td>Co-corricular</td>\n",
       "    </tr>\n",
       "    <tr>\n",
       "      <th>4</th>\n",
       "      <td>Kayla Young</td>\n",
       "      <td>Web Development</td>\n",
       "      <td>Extracorricular</td>\n",
       "      <td>Co-corricular</td>\n",
       "    </tr>\n",
       "    <tr>\n",
       "      <th>...</th>\n",
       "      <td>...</td>\n",
       "      <td>...</td>\n",
       "      <td>...</td>\n",
       "      <td>...</td>\n",
       "    </tr>\n",
       "    <tr>\n",
       "      <th>178</th>\n",
       "      <td>Katelyn Barnes</td>\n",
       "      <td>Coding</td>\n",
       "      <td>Co-corricular</td>\n",
       "      <td>Co-corricular</td>\n",
       "    </tr>\n",
       "    <tr>\n",
       "      <th>179</th>\n",
       "      <td>Gabriel Cruz</td>\n",
       "      <td>Other</td>\n",
       "      <td>Extracorricular</td>\n",
       "      <td>Extracorricular</td>\n",
       "    </tr>\n",
       "    <tr>\n",
       "      <th>180</th>\n",
       "      <td>Christina Williams</td>\n",
       "      <td>Software Architecture</td>\n",
       "      <td>Extracorricular</td>\n",
       "      <td>Extracorricular</td>\n",
       "    </tr>\n",
       "    <tr>\n",
       "      <th>181</th>\n",
       "      <td>William Turner</td>\n",
       "      <td>Development Processes</td>\n",
       "      <td>Placement</td>\n",
       "      <td>Co-corricular</td>\n",
       "    </tr>\n",
       "    <tr>\n",
       "      <th>182</th>\n",
       "      <td>Damon Lane</td>\n",
       "      <td>C</td>\n",
       "      <td>Co-corricular</td>\n",
       "      <td>Co-corricular</td>\n",
       "    </tr>\n",
       "  </tbody>\n",
       "</table>\n",
       "<p>183 rows × 4 columns</p>\n",
       "</div>"
      ],
      "text/plain": [
       "                   Name                 Domain           Event1  \\\n",
       "0           Bryan Brock             Management        Placement   \n",
       "1       Joseph Sullivan                 Coding    Co-corricular   \n",
       "2         Sherri Dawson               Security    Co-corricular   \n",
       "3       Dustin Ferguson               Hardware    Co-corricular   \n",
       "4           Kayla Young        Web Development  Extracorricular   \n",
       "..                  ...                    ...              ...   \n",
       "178      Katelyn Barnes                 Coding    Co-corricular   \n",
       "179        Gabriel Cruz                  Other  Extracorricular   \n",
       "180  Christina Williams  Software Architecture  Extracorricular   \n",
       "181      William Turner  Development Processes        Placement   \n",
       "182          Damon Lane                      C    Co-corricular   \n",
       "\n",
       "              Event2  \n",
       "0      Co-corricular  \n",
       "1      Co-corricular  \n",
       "2    Extracorricular  \n",
       "3      Co-corricular  \n",
       "4      Co-corricular  \n",
       "..               ...  \n",
       "178    Co-corricular  \n",
       "179  Extracorricular  \n",
       "180  Extracorricular  \n",
       "181    Co-corricular  \n",
       "182    Co-corricular  \n",
       "\n",
       "[183 rows x 4 columns]"
      ]
     },
     "execution_count": 39,
     "metadata": {},
     "output_type": "execute_result"
    }
   ],
   "source": [
    "data"
   ]
  },
  {
   "cell_type": "code",
   "execution_count": 40,
   "metadata": {},
   "outputs": [
    {
     "data": {
      "text/plain": [
       "Co-corricular      106\n",
       "Extracorricular     48\n",
       "Placement           29\n",
       "Name: Event1, dtype: int64"
      ]
     },
     "execution_count": 40,
     "metadata": {},
     "output_type": "execute_result"
    }
   ],
   "source": [
    "data['Event1'].value_counts()"
   ]
  },
  {
   "cell_type": "code",
   "execution_count": 41,
   "metadata": {},
   "outputs": [
    {
     "data": {
      "text/plain": [
       "Co-corricular      114\n",
       "Extracorricular     44\n",
       "Placement           25\n",
       "Name: Event2, dtype: int64"
      ]
     },
     "execution_count": 41,
     "metadata": {},
     "output_type": "execute_result"
    }
   ],
   "source": [
    "data['Event2'].value_counts()"
   ]
  },
  {
   "cell_type": "code",
   "execution_count": 50,
   "metadata": {},
   "outputs": [],
   "source": [
    "new = [[1, 2, 3, 4, 5, 6], [7, 8, 9, 10, 11, 12], [13, 14, 15, 16, 17, 18], [19, 20, 21, 22, 23, 24], [25, 26, 27, 28, 29, 30], [31, 32, 33, 34, 35, 36]]"
   ]
  },
  {
   "cell_type": "code",
   "execution_count": 51,
   "metadata": {},
   "outputs": [
    {
     "data": {
      "text/plain": [
       "[[1, 2, 3, 4, 5, 6],\n",
       " [7, 8, 9, 10, 11, 12],\n",
       " [13, 14, 15, 16, 17, 18],\n",
       " [19, 20, 21, 22, 23, 24],\n",
       " [25, 26, 27, 28, 29, 30],\n",
       " [31, 32, 33, 34, 35, 36]]"
      ]
     },
     "execution_count": 51,
     "metadata": {},
     "output_type": "execute_result"
    }
   ],
   "source": [
    "new"
   ]
  },
  {
   "cell_type": "code",
   "execution_count": 123,
   "metadata": {},
   "outputs": [],
   "source": [
    "\n"
   ]
  },
  {
   "cell_type": "code",
   "execution_count": 142,
   "metadata": {},
   "outputs": [
    {
     "name": "stdout",
     "output_type": "stream",
     "text": [
      "[1, 2, 3]\n",
      "8\n",
      "[13, 14, 15]\n",
      "[2, 3, 4]\n",
      "9\n",
      "[14, 15, 16]\n",
      "[3, 4, 5]\n",
      "10\n",
      "[15, 16, 17]\n",
      "[4, 5, 6]\n",
      "11\n",
      "[16, 17, 18]\n",
      "[7, 8, 9]\n",
      "14\n",
      "[19, 20, 21]\n",
      "[8, 9, 10]\n",
      "15\n",
      "[20, 21, 22]\n",
      "[9, 10, 11]\n",
      "16\n",
      "[21, 22, 23]\n",
      "[10, 11, 12]\n",
      "17\n",
      "[22, 23, 24]\n",
      "[13, 14, 15]\n",
      "20\n",
      "[25, 26, 27]\n",
      "[14, 15, 16]\n",
      "21\n",
      "[26, 27, 28]\n",
      "[15, 16, 17]\n",
      "22\n",
      "[27, 28, 29]\n",
      "[16, 17, 18]\n",
      "23\n",
      "[28, 29, 30]\n",
      "[19, 20, 21]\n",
      "26\n",
      "[31, 32, 33]\n",
      "[20, 21, 22]\n",
      "27\n",
      "[32, 33, 34]\n",
      "[21, 22, 23]\n",
      "28\n",
      "[33, 34, 35]\n",
      "[22, 23, 24]\n",
      "29\n",
      "[34, 35, 36]\n"
     ]
    }
   ],
   "source": [
    "test = [[],[],[],[]]\n",
    "for i in range(4):\n",
    "    for j in range(4):\n",
    "        print(new[i][j:j+3])\n",
    "        print(new[i+1][j+1])\n",
    "        c = new[i+1][j+1]\n",
    "        a = sum(new[i][j:j+3])\n",
    "        b = sum(new[i+2][j:j+3])\n",
    "        total = a + b + c\n",
    "        test[i].append(total)\n",
    "        print(new[i+2][j:j+3])\n",
    "    print('I:',i)"
   ]
  },
  {
   "cell_type": "code",
   "execution_count": 133,
   "metadata": {
    "scrolled": false
   },
   "outputs": [
    {
     "data": {
      "text/plain": [
       "[[56, 63, 70, 77],\n",
       " [98, 105, 112, 119],\n",
       " [140, 147, 154, 161],\n",
       " [182, 189, 196, 203]]"
      ]
     },
     "execution_count": 133,
     "metadata": {},
     "output_type": "execute_result"
    }
   ],
   "source": [
    "test"
   ]
  },
  {
   "cell_type": "code",
   "execution_count": 139,
   "metadata": {},
   "outputs": [
    {
     "data": {
      "text/plain": [
       "[77, 119, 161, 203]"
      ]
     },
     "execution_count": 139,
     "metadata": {},
     "output_type": "execute_result"
    }
   ],
   "source": [
    "max(test)\n",
    "a = []\n",
    "for i in range(4):\n",
    "    a.append(max(test[i]))\n",
    "a"
   ]
  },
  {
   "cell_type": "code",
   "execution_count": 137,
   "metadata": {},
   "outputs": [],
   "source": [
    "# m =[[1,2,3],[3,3,4],[2,2,8],[2,5,11]]\n",
    "# a=[]\n",
    "# for i in range(4):\n",
    "#     a.append(max(m[i]))\n"
   ]
  },
  {
   "cell_type": "code",
   "execution_count": 118,
   "metadata": {},
   "outputs": [
    {
     "data": {
      "text/plain": [
       "11"
      ]
     },
     "execution_count": 118,
     "metadata": {},
     "output_type": "execute_result"
    }
   ],
   "source": [
    "max(a)"
   ]
  },
  {
   "cell_type": "code",
   "execution_count": null,
   "metadata": {},
   "outputs": [],
   "source": []
  },
  {
   "cell_type": "code",
   "execution_count": 12,
   "metadata": {},
   "outputs": [],
   "source": [
    "# for d in data['Event1']:\n",
    "#     if d == 'Certifications':\n",
    "        "
   ]
  },
  {
   "cell_type": "code",
   "execution_count": null,
   "metadata": {},
   "outputs": [],
   "source": []
  },
  {
   "cell_type": "code",
   "execution_count": null,
   "metadata": {},
   "outputs": [],
   "source": []
  },
  {
   "cell_type": "code",
   "execution_count": null,
   "metadata": {},
   "outputs": [],
   "source": []
  },
  {
   "cell_type": "code",
   "execution_count": null,
   "metadata": {},
   "outputs": [],
   "source": []
  },
  {
   "cell_type": "code",
   "execution_count": null,
   "metadata": {},
   "outputs": [],
   "source": []
  },
  {
   "cell_type": "code",
   "execution_count": null,
   "metadata": {},
   "outputs": [],
   "source": []
  },
  {
   "cell_type": "code",
   "execution_count": 13,
   "metadata": {},
   "outputs": [
    {
     "ename": "SyntaxError",
     "evalue": "unexpected EOF while parsing (<ipython-input-13-7f6596e7a1b6>, line 31)",
     "output_type": "error",
     "traceback": [
      "\u001b[1;36m  File \u001b[1;32m\"<ipython-input-13-7f6596e7a1b6>\"\u001b[1;36m, line \u001b[1;32m31\u001b[0m\n\u001b[1;33m    #     print count,ele\u001b[0m\n\u001b[1;37m                          ^\u001b[0m\n\u001b[1;31mSyntaxError\u001b[0m\u001b[1;31m:\u001b[0m unexpected EOF while parsing\n"
     ]
    }
   ],
   "source": [
    "#Extra corricular \n",
    "extra = ['Fests','Talks','Expos']\n",
    "#Co-corricular\n",
    "cocorr = ['Certifications','Internships','Competitions','Workshops','Seminars','Hackathons','Webinars','Courses']\n",
    "#Placement\n",
    "placement = ['Jobs','Trainings']\n",
    "data.iloc[:,2:]\n",
    "for key,value in data.iloc[:,2:].iteritems():\n",
    "#     for item in data[key]:\n",
    "#         for item1 in cocorr:\n",
    "#             if item1 == item:\n",
    "#                 data[key] = 'Co-corricular'\n",
    "#         for item2 in extra:\n",
    "#             if item2 == item:\n",
    "#                 data[key] = 'Extracorricular'\n",
    "#         for item3 in placement:\n",
    "#             if item3 == item:\n",
    "#                 data[key] = 'Placement'\n",
    "    \n",
    "#         if item in cocorr:\n",
    "# #             print(item)\n",
    "# #             print('Yes')\n",
    "#             print(item)\n",
    "#             data[key] = 'Co-corricular'\n",
    "#         elif item in extra:\n",
    "#             data[key] = 'Extracorricular'\n",
    "#         else:\n",
    "#             data[key] = 'placement'\n",
    "#     print(data[key])\n",
    "# for count,ele in enumerate(l1,100): \n",
    "#     print count,ele "
   ]
  },
  {
   "cell_type": "code",
   "execution_count": 14,
   "metadata": {},
   "outputs": [
    {
     "data": {
      "text/plain": [
       "Co-corricular      114\n",
       "Extracorricular     44\n",
       "Placement           25\n",
       "Name: Event2, dtype: int64"
      ]
     },
     "execution_count": 14,
     "metadata": {},
     "output_type": "execute_result"
    }
   ],
   "source": [
    "data['Event2'].value_counts()"
   ]
  },
  {
   "cell_type": "code",
   "execution_count": null,
   "metadata": {},
   "outputs": [],
   "source": [
    "new_data = data"
   ]
  },
  {
   "cell_type": "code",
   "execution_count": null,
   "metadata": {},
   "outputs": [],
   "source": [
    "new_data['Event2'].value_counts()"
   ]
  },
  {
   "cell_type": "code",
   "execution_count": null,
   "metadata": {
    "scrolled": false
   },
   "outputs": [],
   "source": [
    "data['Event2'].value_counts()"
   ]
  },
  {
   "cell_type": "code",
   "execution_count": null,
   "metadata": {},
   "outputs": [],
   "source": [
    "sns.countplot(data['Event2'])\n",
    "# plt.legend()"
   ]
  },
  {
   "cell_type": "code",
   "execution_count": null,
   "metadata": {},
   "outputs": [],
   "source": [
    "sns.countplot(data['Event1'])"
   ]
  },
  {
   "cell_type": "code",
   "execution_count": null,
   "metadata": {},
   "outputs": [],
   "source": []
  },
  {
   "cell_type": "code",
   "execution_count": null,
   "metadata": {},
   "outputs": [],
   "source": []
  },
  {
   "cell_type": "code",
   "execution_count": null,
   "metadata": {},
   "outputs": [],
   "source": []
  }
 ],
 "metadata": {
  "kernelspec": {
   "display_name": "Python 3",
   "language": "python",
   "name": "python3"
  },
  "language_info": {
   "codemirror_mode": {
    "name": "ipython",
    "version": 3
   },
   "file_extension": ".py",
   "mimetype": "text/x-python",
   "name": "python",
   "nbconvert_exporter": "python",
   "pygments_lexer": "ipython3",
   "version": "3.7.3"
  }
 },
 "nbformat": 4,
 "nbformat_minor": 4
}
