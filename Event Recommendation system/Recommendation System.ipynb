{
 "cells": [
  {
   "cell_type": "code",
   "execution_count": 15,
   "metadata": {},
   "outputs": [],
   "source": [
    "import numpy as np\n",
    "import pandas as pd\n",
    "import matplotlib.pyplot as plt\n",
    "import seaborn as sns\n",
    "%matplotlib inline"
   ]
  },
  {
   "cell_type": "code",
   "execution_count": 16,
   "metadata": {},
   "outputs": [],
   "source": [
    "data = pd.read_csv('CCMLEmployeeData.csv')"
   ]
  },
  {
   "cell_type": "code",
   "execution_count": 17,
   "metadata": {},
   "outputs": [
    {
     "name": "stdout",
     "output_type": "stream",
     "text": [
      "<class 'pandas.core.frame.DataFrame'>\n",
      "RangeIndex: 183 entries, 0 to 182\n",
      "Data columns (total 4 columns):\n",
      " #   Column  Non-Null Count  Dtype \n",
      "---  ------  --------------  ----- \n",
      " 0   Name    183 non-null    object\n",
      " 1   Domain  183 non-null    object\n",
      " 2   Event1  183 non-null    object\n",
      " 3   Event2  183 non-null    object\n",
      "dtypes: object(4)\n",
      "memory usage: 5.8+ KB\n"
     ]
    }
   ],
   "source": [
    "data.info()"
   ]
  },
  {
   "cell_type": "markdown",
   "metadata": {},
   "source": [
    "# Please Refer this Example!"
   ]
  },
  {
   "cell_type": "raw",
   "metadata": {},
   "source": [
    "Input Event 1 : \"Get a System Administration certification from PurpleHat today.\"\n",
    "Input Event 2 : \"Lockdown special courses on Ydemi. 22 hours left!\"\n",
    "Input Event 3 : \"CodeBoost codeathon is live now!\"\n",
    "\n",
    "Classification -\n",
    "Event 1 -> Domain: Other (because Sys Admin)\tType: Certification\n",
    "Event 2 -> Domain: None (because not specified)\tType: Courses\n",
    "Event 3 -> Domain: Coding (because Codeathon)\tType: Hackathons\n",
    "\n",
    "Employees list (4 columns) -\n",
    "-------------------------------------------------------\n",
    "      Column1   |Column2|\t Column3\t| Column4\n",
    "-------------------------------------------------------\n",
    "Curtis Ortega\t| IoT\t| Internships\t| Courses\n",
    "Andrew Cox\t    | Coding| Jobs\t\t    | Certifications\n",
    "Siah Araol\t    | Other\t| Certifications| Expos\n",
    "Jotin Ai\t    | Coding| Hackathons\t| Courses\n",
    "\n",
    "Output (2 columns) -\n",
    "-------------------------------------------------------------------------------------------\n",
    "                                    Column1\t\t\t\t\t\t|\t\t\tColumn2\t\n",
    "-------------------------------------------------------------------------------------------\n",
    "Get a System Administration certification from PurpleHat today.\t|\tSiah Araol\n",
    "Lockdown special courses on Ydemi. 22 hours left!\t\t        |\tCurtis Ortega, Jotin Ai\n",
    "CodeBoost codeathon is live now!\t\t\t\t                |\tJotin Ai"
   ]
  },
  {
   "cell_type": "code",
   "execution_count": 18,
   "metadata": {
    "scrolled": true
   },
   "outputs": [
    {
     "data": {
      "text/html": [
       "<div>\n",
       "<style scoped>\n",
       "    .dataframe tbody tr th:only-of-type {\n",
       "        vertical-align: middle;\n",
       "    }\n",
       "\n",
       "    .dataframe tbody tr th {\n",
       "        vertical-align: top;\n",
       "    }\n",
       "\n",
       "    .dataframe thead th {\n",
       "        text-align: right;\n",
       "    }\n",
       "</style>\n",
       "<table border=\"1\" class=\"dataframe\">\n",
       "  <thead>\n",
       "    <tr style=\"text-align: right;\">\n",
       "      <th></th>\n",
       "      <th>Name</th>\n",
       "      <th>Domain</th>\n",
       "      <th>Event1</th>\n",
       "      <th>Event2</th>\n",
       "    </tr>\n",
       "  </thead>\n",
       "  <tbody>\n",
       "    <tr>\n",
       "      <th>0</th>\n",
       "      <td>Bryan Brock</td>\n",
       "      <td>Management</td>\n",
       "      <td>Jobs</td>\n",
       "      <td>Hackathons</td>\n",
       "    </tr>\n",
       "    <tr>\n",
       "      <th>1</th>\n",
       "      <td>Joseph Sullivan</td>\n",
       "      <td>Coding</td>\n",
       "      <td>Certifications</td>\n",
       "      <td>Webinars</td>\n",
       "    </tr>\n",
       "    <tr>\n",
       "      <th>2</th>\n",
       "      <td>Sherri Dawson</td>\n",
       "      <td>Security</td>\n",
       "      <td>Internships</td>\n",
       "      <td>Fests</td>\n",
       "    </tr>\n",
       "    <tr>\n",
       "      <th>3</th>\n",
       "      <td>Dustin Ferguson</td>\n",
       "      <td>Hardware</td>\n",
       "      <td>Competitions</td>\n",
       "      <td>Webinars</td>\n",
       "    </tr>\n",
       "    <tr>\n",
       "      <th>4</th>\n",
       "      <td>Kayla Young</td>\n",
       "      <td>Web Development</td>\n",
       "      <td>Expos</td>\n",
       "      <td>Certifications</td>\n",
       "    </tr>\n",
       "    <tr>\n",
       "      <th>5</th>\n",
       "      <td>Angela Stokes</td>\n",
       "      <td>Higher Education</td>\n",
       "      <td>Workshops</td>\n",
       "      <td>Seminars</td>\n",
       "    </tr>\n",
       "    <tr>\n",
       "      <th>6</th>\n",
       "      <td>Curtis Ortega</td>\n",
       "      <td>IoT</td>\n",
       "      <td>Certifications</td>\n",
       "      <td>Courses</td>\n",
       "    </tr>\n",
       "    <tr>\n",
       "      <th>7</th>\n",
       "      <td>Andrew Cox</td>\n",
       "      <td>Coding</td>\n",
       "      <td>Jobs</td>\n",
       "      <td>Certifications</td>\n",
       "    </tr>\n",
       "    <tr>\n",
       "      <th>8</th>\n",
       "      <td>Russell Vargas</td>\n",
       "      <td>Java</td>\n",
       "      <td>Trainings</td>\n",
       "      <td>Expos</td>\n",
       "    </tr>\n",
       "    <tr>\n",
       "      <th>9</th>\n",
       "      <td>David Foster</td>\n",
       "      <td>Security</td>\n",
       "      <td>Certifications</td>\n",
       "      <td>Courses</td>\n",
       "    </tr>\n",
       "  </tbody>\n",
       "</table>\n",
       "</div>"
      ],
      "text/plain": [
       "              Name            Domain          Event1          Event2\n",
       "0      Bryan Brock        Management            Jobs      Hackathons\n",
       "1  Joseph Sullivan            Coding  Certifications        Webinars\n",
       "2    Sherri Dawson          Security     Internships           Fests\n",
       "3  Dustin Ferguson          Hardware    Competitions        Webinars\n",
       "4      Kayla Young   Web Development           Expos  Certifications\n",
       "5    Angela Stokes  Higher Education       Workshops        Seminars\n",
       "6    Curtis Ortega               IoT  Certifications         Courses\n",
       "7       Andrew Cox            Coding            Jobs  Certifications\n",
       "8   Russell Vargas              Java       Trainings           Expos\n",
       "9     David Foster          Security  Certifications         Courses"
      ]
     },
     "execution_count": 18,
     "metadata": {},
     "output_type": "execute_result"
    }
   ],
   "source": [
    "data.head(10)"
   ]
  },
  {
   "cell_type": "code",
   "execution_count": 19,
   "metadata": {},
   "outputs": [
    {
     "data": {
      "text/plain": [
       "Cloud Computing            11\n",
       "Security                   11\n",
       "Other                      11\n",
       "Management                 10\n",
       "Python                     10\n",
       "Coding                     10\n",
       "Mobile Applications         9\n",
       "IoT                         9\n",
       "Networking                  9\n",
       "Blockchain                  9\n",
       "Finance                     9\n",
       "Java                        9\n",
       "C                           8\n",
       "C++                         8\n",
       "Development Processes       8\n",
       "Machine Learning            7\n",
       "Web Development             7\n",
       "Higher Education            7\n",
       "Software Architecture       5\n",
       "JavaScript                  5\n",
       "Data Science                4\n",
       "Hardware                    4\n",
       "Artificial Intelligence     3\n",
       "Name: Domain, dtype: int64"
      ]
     },
     "execution_count": 19,
     "metadata": {},
     "output_type": "execute_result"
    }
   ],
   "source": [
    "data['Domain'].value_counts()"
   ]
  },
  {
   "cell_type": "code",
   "execution_count": 20,
   "metadata": {},
   "outputs": [
    {
     "data": {
      "text/plain": [
       "Expos             22\n",
       "Internships       19\n",
       "Competitions      18\n",
       "Trainings         15\n",
       "Talks             14\n",
       "Seminars          14\n",
       "Jobs              14\n",
       "Workshops         13\n",
       "Hackathons        12\n",
       "Fests             12\n",
       "Certifications    12\n",
       "Webinars          11\n",
       "Courses            7\n",
       "Name: Event1, dtype: int64"
      ]
     },
     "execution_count": 20,
     "metadata": {},
     "output_type": "execute_result"
    }
   ],
   "source": [
    "data['Event1'].value_counts()"
   ]
  },
  {
   "cell_type": "code",
   "execution_count": 21,
   "metadata": {},
   "outputs": [],
   "source": [
    "string = 'Get a System Administration certification from PurpleHat today.'"
   ]
  },
  {
   "cell_type": "code",
   "execution_count": 22,
   "metadata": {},
   "outputs": [
    {
     "data": {
      "text/plain": [
       "['Get',\n",
       " 'a',\n",
       " 'System',\n",
       " 'Administration',\n",
       " 'certification',\n",
       " 'from',\n",
       " 'PurpleHat',\n",
       " 'today.']"
      ]
     },
     "execution_count": 22,
     "metadata": {},
     "output_type": "execute_result"
    }
   ],
   "source": [
    "string.split()"
   ]
  },
  {
   "cell_type": "raw",
   "metadata": {},
   "source": [
    "1. Remove Punctuation.\n",
    "2. Remove Stop words.\n",
    "3. Pass the list of words to classify!\n",
    "======================================\n",
    "Classify them into\n",
    "1. Domain\n",
    "2. Event"
   ]
  },
  {
   "cell_type": "code",
   "execution_count": 33,
   "metadata": {},
   "outputs": [],
   "source": [
    "a = data['Domain'].value_counts()"
   ]
  },
  {
   "cell_type": "code",
   "execution_count": 39,
   "metadata": {},
   "outputs": [
    {
     "data": {
      "text/plain": [
       "Cloud Computing            11\n",
       "Security                   11\n",
       "Other                      11\n",
       "Management                 10\n",
       "Python                     10\n",
       "Coding                     10\n",
       "Mobile Applications         9\n",
       "IoT                         9\n",
       "Networking                  9\n",
       "Blockchain                  9\n",
       "Finance                     9\n",
       "Java                        9\n",
       "C                           8\n",
       "C++                         8\n",
       "Development Processes       8\n",
       "Machine Learning            7\n",
       "Web Development             7\n",
       "Higher Education            7\n",
       "Software Architecture       5\n",
       "JavaScript                  5\n",
       "Data Science                4\n",
       "Hardware                    4\n",
       "Artificial Intelligence     3\n",
       "Name: Domain, dtype: int64"
      ]
     },
     "execution_count": 39,
     "metadata": {},
     "output_type": "execute_result"
    }
   ],
   "source": []
  },
  {
   "cell_type": "code",
   "execution_count": null,
   "metadata": {},
   "outputs": [],
   "source": []
  },
  {
   "cell_type": "code",
   "execution_count": null,
   "metadata": {},
   "outputs": [],
   "source": []
  },
  {
   "cell_type": "code",
   "execution_count": null,
   "metadata": {},
   "outputs": [],
   "source": []
  }
 ],
 "metadata": {
  "kernelspec": {
   "display_name": "Python 3",
   "language": "python",
   "name": "python3"
  },
  "language_info": {
   "codemirror_mode": {
    "name": "ipython",
    "version": 3
   },
   "file_extension": ".py",
   "mimetype": "text/x-python",
   "name": "python",
   "nbconvert_exporter": "python",
   "pygments_lexer": "ipython3",
   "version": "3.7.3"
  }
 },
 "nbformat": 4,
 "nbformat_minor": 4
}
